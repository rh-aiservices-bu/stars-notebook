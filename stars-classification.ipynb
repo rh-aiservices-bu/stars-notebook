{
 "cells": [
  {
   "cell_type": "markdown",
   "id": "51cd8e4a",
   "metadata": {
    "id": "0qGrVrvcp--0",
    "papermill": {
     "duration": 0.007509,
     "end_time": "2023-03-09T10:46:15.583686",
     "exception": false,
     "start_time": "2023-03-09T10:46:15.576177",
     "status": "completed"
    },
    "tags": []
   },
   "source": [
    "# **Stars Classification**"
   ]
  },
  {
   "cell_type": "markdown",
   "id": "be0d79ab-d048-473d-9b68-f1bbb4c6d245",
   "metadata": {},
   "source": [
    "## Overview\n",
    "\n",
    "This notebook focuses on classifying stars based on their physical properties using machine learning techniques."
   ]
  },
  {
   "cell_type": "markdown",
   "id": "28d99cba",
   "metadata": {
    "id": "99ybK23wexQB",
    "papermill": {
     "duration": 0.005634,
     "end_time": "2023-03-09T10:46:15.596050",
     "exception": false,
     "start_time": "2023-03-09T10:46:15.590416",
     "status": "completed"
    },
    "tags": []
   },
   "source": [
    "## Dataset\n",
    "\n",
    "The dataset consisting of several features of stars.\n",
    "\n",
    "Some of them are:\n",
    "\n",
    "- Absolute Temperature (in K)\n",
    "- Relative Luminosity (L/Lo)\n",
    "- Relative Radius (R/Ro)\n",
    "- Absolute Magnitude (Mv)\n",
    "- Star Color (White, Red, Blue, Yellow, Yellow-Orange etc)\n",
    "- Spectral Class (O,B,A,F,G,K,M)\n",
    "- Star Type **(Red Dwarf, Brown Dwarf, White Dwarf, Main Sequence, SuperGiants, HyperGiants)**\n",
    "- Lo = 3.828 x 10^26 Watts (Avg Luminosity of Sun)\n",
    "- Ro = 6.9551 x 10^8 m (Avg Radius of Sun)"
   ]
  },
  {
   "cell_type": "markdown",
   "id": "4d73a4db-1cb9-40bb-8b26-425c934f8444",
   "metadata": {
    "tags": []
   },
   "source": [
    "## Data Preprocessing / EDA"
   ]
  },
  {
   "cell_type": "code",
   "execution_count": null,
   "id": "41ecf60a",
   "metadata": {
    "id": "H2oCFJGuy37u",
    "papermill": {
     "duration": 0.020493,
     "end_time": "2023-03-09T10:46:15.622480",
     "exception": false,
     "start_time": "2023-03-09T10:46:15.601987",
     "status": "completed"
    },
    "tags": []
   },
   "outputs": [],
   "source": [
    "# Import necessary libraries\n",
    "import pandas as pd\n",
    "import numpy as np\n",
    "import seaborn as sns\n",
    "import matplotlib.pyplot as plt\n",
    "from sklearn.model_selection import train_test_split\n",
    "from sklearn.linear_model import LogisticRegression\n",
    "from sklearn.metrics import classification_report, accuracy_score, confusion_matrix\n",
    "from sklearn.preprocessing import StandardScaler"
   ]
  },
  {
   "cell_type": "code",
   "execution_count": null,
   "id": "8eb67146",
   "metadata": {
    "id": "pvrtYImUy7hC",
    "papermill": {
     "duration": 0.439824,
     "end_time": "2023-03-09T10:46:16.068421",
     "exception": false,
     "start_time": "2023-03-09T10:46:15.628597",
     "status": "completed"
    },
    "tags": []
   },
   "outputs": [],
   "source": [
    "# Import data\n",
    "star = pd.read_csv('Stars.csv')"
   ]
  },
  {
   "cell_type": "code",
   "execution_count": null,
   "id": "370e9190",
   "metadata": {
    "id": "ltkYXmdz-_z3",
    "outputId": "65f6131d-230b-491f-e662-38ef3296ee70",
    "papermill": {
     "duration": 0.040736,
     "end_time": "2023-03-09T10:46:16.115161",
     "exception": false,
     "start_time": "2023-03-09T10:46:16.074425",
     "status": "completed"
    },
    "tags": []
   },
   "outputs": [],
   "source": [
    "# Displays the first few rows of the DataFrame.\n",
    "star.head()"
   ]
  },
  {
   "cell_type": "code",
   "execution_count": null,
   "id": "dcbff7e1",
   "metadata": {
    "id": "f0XHmtvL_CGZ",
    "outputId": "4fe51aba-15f6-4863-efe5-af86ba344be0",
    "papermill": {
     "duration": 0.036582,
     "end_time": "2023-03-09T10:46:16.157996",
     "exception": false,
     "start_time": "2023-03-09T10:46:16.121414",
     "status": "completed"
    },
    "tags": []
   },
   "outputs": [],
   "source": [
    "# Overview of the DataFrame, including the data types and non-null counts.\n",
    "star.info()"
   ]
  },
  {
   "cell_type": "code",
   "execution_count": null,
   "id": "189a3983",
   "metadata": {
    "id": "tmpkna_P4Wnn",
    "outputId": "89f9b65e-0636-4022-8721-13fbd9a9177f",
    "papermill": {
     "duration": 0.04307,
     "end_time": "2023-03-09T10:46:16.207436",
     "exception": false,
     "start_time": "2023-03-09T10:46:16.164366",
     "status": "completed"
    },
    "tags": []
   },
   "outputs": [],
   "source": [
    "# Provides descriptive statistics of the DataFrame\n",
    "star.describe()"
   ]
  },
  {
   "cell_type": "markdown",
   "id": "0e928c60-2824-4f37-97c4-75519d83acba",
   "metadata": {},
   "source": [
    "## Feature Selection\n",
    "\n",
    "Feature selection is a crucial step in the machine learning pipeline where you identify the relevant features (independent variables) that will be used to train the model."
   ]
  },
  {
   "cell_type": "code",
   "execution_count": null,
   "id": "44e05509",
   "metadata": {
    "id": "cXKbh7DzAMZ9",
    "outputId": "3527f48f-da5d-4ab2-94b3-9b04a0e911dd",
    "papermill": {
     "duration": 0.027027,
     "end_time": "2023-03-09T10:46:16.266469",
     "exception": false,
     "start_time": "2023-03-09T10:46:16.239442",
     "status": "completed"
    },
    "tags": []
   },
   "outputs": [],
   "source": [
    "# Number of categories in the 'Spectral Class' column\n",
    "star[['Spectral Class']].value_counts()"
   ]
  },
  {
   "cell_type": "code",
   "execution_count": null,
   "id": "42fafea8",
   "metadata": {
    "id": "d9Y-SSJ3zxue",
    "papermill": {
     "duration": 0.019146,
     "end_time": "2023-03-09T10:46:16.292398",
     "exception": false,
     "start_time": "2023-03-09T10:46:16.273252",
     "status": "completed"
    },
    "tags": []
   },
   "outputs": [],
   "source": [
    "# Encoding 'Spectral Class' by replacing the class names with integers\n",
    "# Groups multiple spectral classes into a smaller number of categories\n",
    "pd.set_option('future.no_silent_downcasting', True)\n",
    "star['Spectral Class'] = star['Spectral Class'].replace(\n",
    "    {'M': 0, 'A': 1, 'B': 1, 'F': 1, 'O': 1, 'K': 1, 'G': 1}\n",
    ").astype(int)"
   ]
  },
  {
   "cell_type": "code",
   "execution_count": null,
   "id": "20e65c1d",
   "metadata": {
    "id": "d7s9KFqRApFa",
    "outputId": "ed01dd5d-0192-4105-d22b-2f459b88550b",
    "papermill": {
     "duration": 0.021162,
     "end_time": "2023-03-09T10:46:16.320287",
     "exception": false,
     "start_time": "2023-03-09T10:46:16.299125",
     "status": "completed"
    },
    "tags": []
   },
   "outputs": [],
   "source": [
    "# Count the number of categories in the 'Star Type' column\n",
    "star[['Star type']].value_counts()"
   ]
  },
  {
   "cell_type": "code",
   "execution_count": null,
   "id": "6c820ad3",
   "metadata": {
    "id": "gxMdpWGrtxSJ",
    "papermill": {
     "duration": 0.020106,
     "end_time": "2023-03-09T10:46:16.347265",
     "exception": false,
     "start_time": "2023-03-09T10:46:16.327159",
     "status": "completed"
    },
    "tags": []
   },
   "outputs": [],
   "source": [
    "# Replaces values in the 'Star color' column for encoding categorical variables\n",
    "star.replace({'Star color': {\n",
    "    'Red': 0, \n",
    "    'Yellow': 1, \n",
    "    'White': 2, \n",
    "    'White ': 2, \n",
    "    'Blue ': 3, \n",
    "    'Blue': 3}}, inplace=True)"
   ]
  },
  {
   "cell_type": "code",
   "execution_count": null,
   "id": "1c8ae8be",
   "metadata": {
    "id": "BrzFVAHz_Xpg",
    "outputId": "f0864219-1346-4788-8c30-570efa3dbef2",
    "papermill": {
     "duration": 0.022135,
     "end_time": "2023-03-09T10:46:16.376341",
     "exception": false,
     "start_time": "2023-03-09T10:46:16.354206",
     "status": "completed"
    },
    "tags": []
   },
   "outputs": [],
   "source": [
    "# Count the occurrences of each category in the 'Star color' column\n",
    "star[['Star color']].value_counts()"
   ]
  },
  {
   "cell_type": "code",
   "execution_count": null,
   "id": "fddd8248-3093-4f84-acc4-04eda419c817",
   "metadata": {
    "tags": []
   },
   "outputs": [],
   "source": [
    "# One-hot encoding categorical variables\n",
    "# This step is necessary because machine learning models like Logistic Regression require numeric input\n",
    "star_encoded = pd.get_dummies(star, columns=['Star category', 'Star color'])"
   ]
  },
  {
   "cell_type": "code",
   "execution_count": null,
   "id": "a1248243",
   "metadata": {
    "id": "Kwc4B6zoWYUg",
    "papermill": {
     "duration": 0.018759,
     "end_time": "2023-03-09T10:46:16.402003",
     "exception": false,
     "start_time": "2023-03-09T10:46:16.383244",
     "status": "completed"
    },
    "tags": []
   },
   "outputs": [],
   "source": [
    "# Separate features and target variable (Spectral Class)\n",
    "features = star_encoded.drop(columns=['Spectral Class'])\n",
    "target = star['Spectral Class']"
   ]
  },
  {
   "cell_type": "code",
   "execution_count": null,
   "id": "738e4d54-4881-4921-858a-9a9f555689f4",
   "metadata": {
    "tags": []
   },
   "outputs": [],
   "source": [
    "# Visualizing the distribution of Spectral Class to differentiate it from other features\n",
    "plt.figure(figsize=(8, 6))\n",
    "sns.countplot(x=target, hue=target, palette=\"Set2\", legend=False)\n",
    "plt.title('Distribution of Spectral Classes')\n",
    "plt.xlabel('Spectral Class')\n",
    "plt.ylabel('Count')\n",
    "plt.show()"
   ]
  },
  {
   "cell_type": "markdown",
   "id": "478da5af-8d53-467d-9240-8923dd9819d1",
   "metadata": {},
   "source": [
    "## Train the Model"
   ]
  },
  {
   "cell_type": "code",
   "execution_count": null,
   "id": "a84d18e5",
   "metadata": {
    "id": "Uh4Qx-WmXbcE",
    "papermill": {
     "duration": 1.202641,
     "end_time": "2023-03-09T10:46:17.612174",
     "exception": false,
     "start_time": "2023-03-09T10:46:16.409533",
     "status": "completed"
    },
    "tags": []
   },
   "outputs": [],
   "source": [
    "# Split the data into training and testing sets\n",
    "# 30% of the data is used for testing, while the remaining 70% is used for training\n",
    "X_train, X_test, y_train, y_test = train_test_split(features, target, test_size=0.3, random_state=42)"
   ]
  },
  {
   "cell_type": "code",
   "execution_count": null,
   "id": "3feae098-7861-4c6e-ad37-e9603a794431",
   "metadata": {
    "tags": []
   },
   "outputs": [],
   "source": [
    "# Scales the features so that they all have a mean of 0 and a standard deviation of 1.\n",
    "scaler = StandardScaler()\n",
    "X_train_scaled = scaler.fit_transform(X_train)\n",
    "X_test_scaled = scaler.transform(X_test)"
   ]
  },
  {
   "cell_type": "code",
   "execution_count": null,
   "id": "4e7b17c8",
   "metadata": {
    "id": "ZNNabAuxlZj8",
    "outputId": "84de4853-cca2-4315-80a4-e8ddd6a23c1f",
    "papermill": {
     "duration": 0.055817,
     "end_time": "2023-03-09T10:46:17.814067",
     "exception": false,
     "start_time": "2023-03-09T10:46:17.758250",
     "status": "completed"
    },
    "tags": []
   },
   "outputs": [],
   "source": [
    "# Train model with LogisticRegression \n",
    "model = LogisticRegression(max_iter=3000)\n",
    "\n",
    "# Trains the Logistic Regression model on the scaled training data \n",
    "model.fit(X_train_scaled, y_train)"
   ]
  },
  {
   "cell_type": "code",
   "execution_count": null,
   "id": "33fe201a",
   "metadata": {
    "id": "9zj_do5MZ7ro",
    "papermill": {
     "duration": 0.018863,
     "end_time": "2023-03-09T10:46:17.840356",
     "exception": false,
     "start_time": "2023-03-09T10:46:17.821493",
     "status": "completed"
    },
    "tags": []
   },
   "outputs": [],
   "source": [
    "# Make predictions\n",
    "y_pred = model.predict(X_test_scaled)"
   ]
  },
  {
   "cell_type": "code",
   "execution_count": null,
   "id": "0d13e23b",
   "metadata": {
    "id": "fYxaGZZv1bVe",
    "outputId": "268352de-c163-4970-98ed-d396fb45ccd8",
    "papermill": {
     "duration": 0.019512,
     "end_time": "2023-03-09T10:46:17.867069",
     "exception": false,
     "start_time": "2023-03-09T10:46:17.847557",
     "status": "completed"
    },
    "tags": []
   },
   "outputs": [],
   "source": [
    "y_pred"
   ]
  },
  {
   "cell_type": "markdown",
   "id": "4a482112-b0c5-4c43-aa5d-b4c86777445f",
   "metadata": {},
   "source": [
    "## Evaluate the Model"
   ]
  },
  {
   "cell_type": "code",
   "execution_count": null,
   "id": "cc20f23c-04ce-4ee1-9d07-a1fe1e93ba9b",
   "metadata": {
    "tags": []
   },
   "outputs": [],
   "source": [
    "# Evaluate the model\n",
    "accuracy = accuracy_score(y_test, y_pred)\n",
    "print(f\"Model Accuracy: {accuracy * 100:.2f}%\")"
   ]
  },
  {
   "cell_type": "code",
   "execution_count": null,
   "id": "a58d5e5b",
   "metadata": {
    "id": "10bskobTmUIn",
    "outputId": "40f826a2-cec8-437a-b210-7dceb19a4721",
    "papermill": {
     "duration": 0.023255,
     "end_time": "2023-03-09T10:46:17.952408",
     "exception": false,
     "start_time": "2023-03-09T10:46:17.929153",
     "status": "completed"
    },
    "tags": []
   },
   "outputs": [],
   "source": [
    "print(classification_report(y_test,y_pred))"
   ]
  },
  {
   "cell_type": "code",
   "execution_count": null,
   "id": "4c0eafa8-b43d-47de-a30d-d621b94a6c19",
   "metadata": {
    "tags": []
   },
   "outputs": [],
   "source": [
    "# Visualize the confusion matrix\n",
    "cm = confusion_matrix(y_test, y_pred)\n",
    "plt.figure(figsize=(10, 7))\n",
    "sns.heatmap(cm, annot=True, fmt=\"d\", cmap=\"Blues\")\n",
    "plt.title(\"Confusion Matrix Heatmap\")\n",
    "plt.xlabel(\"Predicted\")\n",
    "plt.ylabel(\"True\")\n",
    "plt.show()\n"
   ]
  }
 ],
 "metadata": {
  "kernelspec": {
   "display_name": "Python 3.9",
   "language": "python",
   "name": "python3"
  },
  "language_info": {
   "codemirror_mode": {
    "name": "ipython",
    "version": 3
   },
   "file_extension": ".py",
   "mimetype": "text/x-python",
   "name": "python",
   "nbconvert_exporter": "python",
   "pygments_lexer": "ipython3",
   "version": "3.9.18"
  },
  "papermill": {
   "default_parameters": {},
   "duration": 14.006381,
   "end_time": "2023-03-09T10:46:18.799231",
   "environment_variables": {},
   "exception": null,
   "input_path": "__notebook__.ipynb",
   "output_path": "__notebook__.ipynb",
   "parameters": {},
   "start_time": "2023-03-09T10:46:04.792850",
   "version": "2.4.0"
  }
 },
 "nbformat": 4,
 "nbformat_minor": 5
}
