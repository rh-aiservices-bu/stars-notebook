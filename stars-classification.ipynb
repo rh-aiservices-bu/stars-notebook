{
 "cells": [
  {
   "cell_type": "markdown",
   "id": "51cd8e4a",
   "metadata": {
    "id": "0qGrVrvcp--0",
    "papermill": {
     "duration": 0.007509,
     "end_time": "2023-03-09T10:46:15.583686",
     "exception": false,
     "start_time": "2023-03-09T10:46:15.576177",
     "status": "completed"
    },
    "tags": []
   },
   "source": [
    "# **Stars Classification**"
   ]
  },
  {
   "cell_type": "markdown",
   "id": "be0d79ab-d048-473d-9b68-f1bbb4c6d245",
   "metadata": {},
   "source": [
    "## Overview\n",
    "\n",
    "This notebook focuses on classifying stars based on their physical properties using machine learning techniques."
   ]
  },
  {
   "cell_type": "markdown",
   "id": "28d99cba",
   "metadata": {
    "id": "99ybK23wexQB",
    "papermill": {
     "duration": 0.005634,
     "end_time": "2023-03-09T10:46:15.596050",
     "exception": false,
     "start_time": "2023-03-09T10:46:15.590416",
     "status": "completed"
    },
    "tags": []
   },
   "source": [
    "## Dataset\n",
    "\n",
    "The dataset consisting of several features of stars.\n",
    "\n",
    "Some of them are:\n",
    "\n",
    "- Absolute Temperature (in K)\n",
    "- Relative Luminosity (L/Lo)\n",
    "- Relative Radius (R/Ro)\n",
    "- Absolute Magnitude (Mv)\n",
    "- Star Color (white,Red,Blue,Yellow,yellow-orange etc)\n",
    "- Spectral Class (O,B,A,F,G,K,,M)\n",
    "- Star Type **(Red Dwarf, Brown Dwarf, White Dwarf, Main Sequence , SuperGiants, HyperGiants)**\n",
    "- Lo = 3.828 x 10^26 Watts (Avg Luminosity of Sun)\n",
    "- Ro = 6.9551 x 10^8 m (Avg Radius of Sun)"
   ]
  },
  {
   "cell_type": "markdown",
   "id": "4d73a4db-1cb9-40bb-8b26-425c934f8444",
   "metadata": {
    "tags": []
   },
   "source": [
    "## Data Preprocessing"
   ]
  },
  {
   "cell_type": "code",
   "execution_count": null,
   "id": "41ecf60a",
   "metadata": {
    "id": "H2oCFJGuy37u",
    "papermill": {
     "duration": 0.020493,
     "end_time": "2023-03-09T10:46:15.622480",
     "exception": false,
     "start_time": "2023-03-09T10:46:15.601987",
     "status": "completed"
    },
    "tags": []
   },
   "outputs": [],
   "source": [
    "# Import library\n",
    "import pandas as pd\n",
    "import numpy as np\n",
    "pd.set_option('future.no_silent_downcasting', True)"
   ]
  },
  {
   "cell_type": "code",
   "execution_count": null,
   "id": "8eb67146",
   "metadata": {
    "id": "pvrtYImUy7hC",
    "papermill": {
     "duration": 0.439824,
     "end_time": "2023-03-09T10:46:16.068421",
     "exception": false,
     "start_time": "2023-03-09T10:46:15.628597",
     "status": "completed"
    },
    "tags": []
   },
   "outputs": [],
   "source": [
    "# Import data\n",
    "star = pd.read_csv('Stars.csv')"
   ]
  },
  {
   "cell_type": "code",
   "execution_count": null,
   "id": "370e9190",
   "metadata": {
    "id": "ltkYXmdz-_z3",
    "outputId": "65f6131d-230b-491f-e662-38ef3296ee70",
    "papermill": {
     "duration": 0.040736,
     "end_time": "2023-03-09T10:46:16.115161",
     "exception": false,
     "start_time": "2023-03-09T10:46:16.074425",
     "status": "completed"
    },
    "tags": []
   },
   "outputs": [],
   "source": [
    "# Displays the first few rows of the DataFrame.\n",
    "star.head()"
   ]
  },
  {
   "cell_type": "code",
   "execution_count": null,
   "id": "dcbff7e1",
   "metadata": {
    "id": "f0XHmtvL_CGZ",
    "outputId": "4fe51aba-15f6-4863-efe5-af86ba344be0",
    "papermill": {
     "duration": 0.036582,
     "end_time": "2023-03-09T10:46:16.157996",
     "exception": false,
     "start_time": "2023-03-09T10:46:16.121414",
     "status": "completed"
    },
    "tags": []
   },
   "outputs": [],
   "source": [
    "# Overview of the DataFrame, including the data types and non-null counts.\n",
    "star.info()"
   ]
  },
  {
   "cell_type": "code",
   "execution_count": null,
   "id": "189a3983",
   "metadata": {
    "id": "tmpkna_P4Wnn",
    "outputId": "89f9b65e-0636-4022-8721-13fbd9a9177f",
    "papermill": {
     "duration": 0.04307,
     "end_time": "2023-03-09T10:46:16.207436",
     "exception": false,
     "start_time": "2023-03-09T10:46:16.164366",
     "status": "completed"
    },
    "tags": []
   },
   "outputs": [],
   "source": [
    "# Provides descriptive statistics of the DataFrame\n",
    "star.describe()"
   ]
  },
  {
   "cell_type": "markdown",
   "id": "0e928c60-2824-4f37-97c4-75519d83acba",
   "metadata": {},
   "source": [
    "## Feature Selection"
   ]
  },
  {
   "cell_type": "code",
   "execution_count": null,
   "id": "44e05509",
   "metadata": {
    "id": "cXKbh7DzAMZ9",
    "outputId": "3527f48f-da5d-4ab2-94b3-9b04a0e911dd",
    "papermill": {
     "duration": 0.027027,
     "end_time": "2023-03-09T10:46:16.266469",
     "exception": false,
     "start_time": "2023-03-09T10:46:16.239442",
     "status": "completed"
    },
    "tags": []
   },
   "outputs": [],
   "source": [
    "# number of categories\n",
    "star[['Spectral Class']].value_counts()"
   ]
  },
  {
   "cell_type": "code",
   "execution_count": null,
   "id": "42fafea8",
   "metadata": {
    "id": "d9Y-SSJ3zxue",
    "papermill": {
     "duration": 0.019146,
     "end_time": "2023-03-09T10:46:16.292398",
     "exception": false,
     "start_time": "2023-03-09T10:46:16.273252",
     "status": "completed"
    },
    "tags": []
   },
   "outputs": [],
   "source": [
    "# encoding\n",
    "star['Spectral Class'] = star['Spectral Class'].replace(\n",
    "    {'M': 0, 'A': 1, 'B': 1, 'F': 1, 'O': 1, 'K': 1, 'G': 1}\n",
    ").astype(int)"
   ]
  },
  {
   "cell_type": "code",
   "execution_count": null,
   "id": "20e65c1d",
   "metadata": {
    "id": "d7s9KFqRApFa",
    "outputId": "ed01dd5d-0192-4105-d22b-2f459b88550b",
    "papermill": {
     "duration": 0.021162,
     "end_time": "2023-03-09T10:46:16.320287",
     "exception": false,
     "start_time": "2023-03-09T10:46:16.299125",
     "status": "completed"
    },
    "tags": []
   },
   "outputs": [],
   "source": [
    "# number of categories\n",
    "star[['Star type']].value_counts()"
   ]
  },
  {
   "cell_type": "code",
   "execution_count": null,
   "id": "6c820ad3",
   "metadata": {
    "id": "gxMdpWGrtxSJ",
    "papermill": {
     "duration": 0.020106,
     "end_time": "2023-03-09T10:46:16.347265",
     "exception": false,
     "start_time": "2023-03-09T10:46:16.327159",
     "status": "completed"
    },
    "tags": []
   },
   "outputs": [],
   "source": [
    "# Replaces values in the 'Star color' column for encoding categorical variables\n",
    "star.replace({'Star color':{ 'Red':0, 'Yellow':1, 'White':2, 'White ': 2, 'Blue ':3, 'Blue':3 }}, inplace=True)"
   ]
  },
  {
   "cell_type": "code",
   "execution_count": null,
   "id": "1c8ae8be",
   "metadata": {
    "id": "BrzFVAHz_Xpg",
    "outputId": "f0864219-1346-4788-8c30-570efa3dbef2",
    "papermill": {
     "duration": 0.022135,
     "end_time": "2023-03-09T10:46:16.376341",
     "exception": false,
     "start_time": "2023-03-09T10:46:16.354206",
     "status": "completed"
    },
    "tags": []
   },
   "outputs": [],
   "source": [
    "# Counts the occurrences of each category in the 'Star color' column.\n",
    "star[['Star color']].value_counts()"
   ]
  },
  {
   "cell_type": "code",
   "execution_count": null,
   "id": "a1248243",
   "metadata": {
    "id": "Kwc4B6zoWYUg",
    "papermill": {
     "duration": 0.018759,
     "end_time": "2023-03-09T10:46:16.402003",
     "exception": false,
     "start_time": "2023-03-09T10:46:16.383244",
     "status": "completed"
    },
    "tags": []
   },
   "outputs": [],
   "source": [
    "# define target and features\n",
    "y = star['Spectral Class']\n",
    "X = star[['Temperature (K)', 'Luminosity (L/Lo)', 'Radius (R/Ro)',\n",
    "       'Absolute magnitude (Mv)']]"
   ]
  },
  {
   "cell_type": "markdown",
   "id": "478da5af-8d53-467d-9240-8923dd9819d1",
   "metadata": {},
   "source": [
    "## Train the Model"
   ]
  },
  {
   "cell_type": "code",
   "execution_count": null,
   "id": "a84d18e5",
   "metadata": {
    "id": "Uh4Qx-WmXbcE",
    "papermill": {
     "duration": 1.202641,
     "end_time": "2023-03-09T10:46:17.612174",
     "exception": false,
     "start_time": "2023-03-09T10:46:16.409533",
     "status": "completed"
    },
    "tags": []
   },
   "outputs": [],
   "source": [
    "# split\n",
    "from sklearn.model_selection import train_test_split\n",
    "X_train, X_test, y_train, y_test = train_test_split(X, y, train_size = 0.8, random_state = 200)"
   ]
  },
  {
   "cell_type": "code",
   "execution_count": null,
   "id": "cf4ebfd8",
   "metadata": {
    "id": "B4G93PVhYjyl",
    "papermill": {
     "duration": 0.131497,
     "end_time": "2023-03-09T10:46:17.751168",
     "exception": false,
     "start_time": "2023-03-09T10:46:17.619671",
     "status": "completed"
    },
    "tags": []
   },
   "outputs": [],
   "source": [
    "# select model\n",
    "from sklearn.linear_model import LogisticRegression\n",
    "model = LogisticRegression()"
   ]
  },
  {
   "cell_type": "code",
   "execution_count": null,
   "id": "4e7b17c8",
   "metadata": {
    "id": "ZNNabAuxlZj8",
    "outputId": "84de4853-cca2-4315-80a4-e8ddd6a23c1f",
    "papermill": {
     "duration": 0.055817,
     "end_time": "2023-03-09T10:46:17.814067",
     "exception": false,
     "start_time": "2023-03-09T10:46:17.758250",
     "status": "completed"
    },
    "tags": []
   },
   "outputs": [],
   "source": [
    "# train model\n",
    "model = LogisticRegression(max_iter=1000)  # You can adjust the number as needed\n",
    "model.fit(X_train,y_train)"
   ]
  },
  {
   "cell_type": "markdown",
   "id": "ce313ac9-909b-421a-bf56-bb9598811032",
   "metadata": {},
   "source": [
    "## Make a prediction"
   ]
  },
  {
   "cell_type": "code",
   "execution_count": null,
   "id": "33fe201a",
   "metadata": {
    "id": "9zj_do5MZ7ro",
    "papermill": {
     "duration": 0.018863,
     "end_time": "2023-03-09T10:46:17.840356",
     "exception": false,
     "start_time": "2023-03-09T10:46:17.821493",
     "status": "completed"
    },
    "tags": []
   },
   "outputs": [],
   "source": [
    "# predict\n",
    "y_pred = model.predict(X_test)"
   ]
  },
  {
   "cell_type": "code",
   "execution_count": null,
   "id": "0d13e23b",
   "metadata": {
    "id": "fYxaGZZv1bVe",
    "outputId": "268352de-c163-4970-98ed-d396fb45ccd8",
    "papermill": {
     "duration": 0.019512,
     "end_time": "2023-03-09T10:46:17.867069",
     "exception": false,
     "start_time": "2023-03-09T10:46:17.847557",
     "status": "completed"
    },
    "tags": []
   },
   "outputs": [],
   "source": [
    "y_pred"
   ]
  },
  {
   "cell_type": "code",
   "execution_count": null,
   "id": "74cb8fb4",
   "metadata": {
    "id": "LeG8eFnKAUII",
    "papermill": {
     "duration": 0.017049,
     "end_time": "2023-03-09T10:46:17.891369",
     "exception": false,
     "start_time": "2023-03-09T10:46:17.874320",
     "status": "completed"
    },
    "tags": []
   },
   "outputs": [],
   "source": [
    "# import function\n",
    "from sklearn.metrics import confusion_matrix, classification_report"
   ]
  },
  {
   "cell_type": "code",
   "execution_count": null,
   "id": "86490c26",
   "metadata": {
    "id": "BzrhbXQAmR1x",
    "outputId": "9d2af00a-d29c-4890-b6e2-fcec205a54a9",
    "papermill": {
     "duration": 0.023062,
     "end_time": "2023-03-09T10:46:17.921608",
     "exception": false,
     "start_time": "2023-03-09T10:46:17.898546",
     "status": "completed"
    },
    "tags": []
   },
   "outputs": [],
   "source": [
    "confusion_matrix(y_test,y_pred)"
   ]
  },
  {
   "cell_type": "code",
   "execution_count": null,
   "id": "887d84fa-3473-4927-8332-fe7f0054aadc",
   "metadata": {},
   "outputs": [],
   "source": [
    "# Plot the confusion matrix using a heatmap\n",
    "plt.figure(figsize=(8, 6))\n",
    "sns.heatmap(conf_matrix, annot=True, fmt=\"d\", cmap=\"Blues\", cbar=False)\n",
    "plt.title(\"Confusion Matrix\")\n",
    "plt.xlabel(\"Predicted Star Type\")\n",
    "plt.ylabel(\"Actual Star Type\")\n",
    "plt.show()"
   ]
  },
  {
   "cell_type": "code",
   "execution_count": null,
   "id": "a58d5e5b",
   "metadata": {
    "id": "10bskobTmUIn",
    "outputId": "40f826a2-cec8-437a-b210-7dceb19a4721",
    "papermill": {
     "duration": 0.023255,
     "end_time": "2023-03-09T10:46:17.952408",
     "exception": false,
     "start_time": "2023-03-09T10:46:17.929153",
     "status": "completed"
    },
    "tags": []
   },
   "outputs": [],
   "source": [
    "print(classification_report(y_test,y_pred))"
   ]
  }
 ],
 "metadata": {
  "kernelspec": {
   "display_name": "Python 3.9",
   "language": "python",
   "name": "python3"
  },
  "language_info": {
   "codemirror_mode": {
    "name": "ipython",
    "version": 3
   },
   "file_extension": ".py",
   "mimetype": "text/x-python",
   "name": "python",
   "nbconvert_exporter": "python",
   "pygments_lexer": "ipython3",
   "version": "3.9.18"
  },
  "papermill": {
   "default_parameters": {},
   "duration": 14.006381,
   "end_time": "2023-03-09T10:46:18.799231",
   "environment_variables": {},
   "exception": null,
   "input_path": "__notebook__.ipynb",
   "output_path": "__notebook__.ipynb",
   "parameters": {},
   "start_time": "2023-03-09T10:46:04.792850",
   "version": "2.4.0"
  }
 },
 "nbformat": 4,
 "nbformat_minor": 5
}
